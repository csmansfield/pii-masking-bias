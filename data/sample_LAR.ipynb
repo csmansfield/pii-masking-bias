{
 "cells": [
  {
   "cell_type": "code",
   "execution_count": 1,
   "id": "4ab05029",
   "metadata": {},
   "outputs": [],
   "source": [
    "import numpy as np\n",
    "import pandas as pd\n",
    "from scipy.stats import mannwhitneyu\n",
    "import matplotlib.pyplot as plt\n",
    "import seaborn as sns\n",
    "import data_utils\n",
    "\n",
    "sns.set_style('white', {'font.family':'serif'})\n",
    "sns.set_context(\"paper\", font_scale = 2)"
   ]
  },
  {
   "cell_type": "code",
   "execution_count": 2,
   "id": "15460a6d",
   "metadata": {},
   "outputs": [],
   "source": [
    "# fetch random bit generator for reproducibility\n",
    "bg = data_utils.get_random_gen()"
   ]
  },
  {
   "cell_type": "markdown",
   "id": "4c9be1b5",
   "metadata": {},
   "source": [
    "# Dataset source\n",
    "\n",
    "Data resource from Tzioumis, Konstantinos, 2018, \"Data for: Demographic aspects of first names\"\n",
    "\n",
    "These come from mortgage applications, in which people self-identify with a race/ethnic category that corresponds to the US Census race/ethnic categories\n",
    "\n",
    "https://dataverse.harvard.edu/dataset.xhtml?persistentId=doi:10.7910/DVN/TYJKEZ \n",
    "\n",
    "Related paper: https://www.nature.com/articles/sdata201825\n",
    "\n",
    "There's no way to find the URL for the data source, so I can't wget or curl it. :-/"
   ]
  },
  {
   "cell_type": "code",
   "execution_count": 3,
   "id": "b0d2ef2c",
   "metadata": {},
   "outputs": [
    {
     "data": {
      "text/html": [
       "<div>\n",
       "<style scoped>\n",
       "    .dataframe tbody tr th:only-of-type {\n",
       "        vertical-align: middle;\n",
       "    }\n",
       "\n",
       "    .dataframe tbody tr th {\n",
       "        vertical-align: top;\n",
       "    }\n",
       "\n",
       "    .dataframe thead th {\n",
       "        text-align: right;\n",
       "    }\n",
       "</style>\n",
       "<table border=\"1\" class=\"dataframe\">\n",
       "  <thead>\n",
       "    <tr style=\"text-align: right;\">\n",
       "      <th></th>\n",
       "      <th>firstname</th>\n",
       "      <th>obs</th>\n",
       "      <th>pcthispanic</th>\n",
       "      <th>pctwhite</th>\n",
       "      <th>pctblack</th>\n",
       "      <th>pctapi</th>\n",
       "      <th>pctaian</th>\n",
       "      <th>pct2prace</th>\n",
       "    </tr>\n",
       "  </thead>\n",
       "  <tbody>\n",
       "    <tr>\n",
       "      <th>0</th>\n",
       "      <td>Aaron</td>\n",
       "      <td>3646</td>\n",
       "      <td>2.880</td>\n",
       "      <td>91.607</td>\n",
       "      <td>3.264</td>\n",
       "      <td>2.057</td>\n",
       "      <td>0.055</td>\n",
       "      <td>0.137</td>\n",
       "    </tr>\n",
       "    <tr>\n",
       "      <th>1</th>\n",
       "      <td>Abbas</td>\n",
       "      <td>59</td>\n",
       "      <td>0.000</td>\n",
       "      <td>71.186</td>\n",
       "      <td>3.390</td>\n",
       "      <td>25.424</td>\n",
       "      <td>0.000</td>\n",
       "      <td>0.000</td>\n",
       "    </tr>\n",
       "    <tr>\n",
       "      <th>2</th>\n",
       "      <td>Abbey</td>\n",
       "      <td>57</td>\n",
       "      <td>0.000</td>\n",
       "      <td>96.491</td>\n",
       "      <td>3.509</td>\n",
       "      <td>0.000</td>\n",
       "      <td>0.000</td>\n",
       "      <td>0.000</td>\n",
       "    </tr>\n",
       "    <tr>\n",
       "      <th>3</th>\n",
       "      <td>Abbie</td>\n",
       "      <td>74</td>\n",
       "      <td>1.351</td>\n",
       "      <td>95.946</td>\n",
       "      <td>2.703</td>\n",
       "      <td>0.000</td>\n",
       "      <td>0.000</td>\n",
       "      <td>0.000</td>\n",
       "    </tr>\n",
       "    <tr>\n",
       "      <th>4</th>\n",
       "      <td>Abby</td>\n",
       "      <td>262</td>\n",
       "      <td>1.527</td>\n",
       "      <td>94.656</td>\n",
       "      <td>1.527</td>\n",
       "      <td>2.290</td>\n",
       "      <td>0.000</td>\n",
       "      <td>0.000</td>\n",
       "    </tr>\n",
       "  </tbody>\n",
       "</table>\n",
       "</div>"
      ],
      "text/plain": [
       "  firstname   obs  pcthispanic  pctwhite  pctblack  pctapi  pctaian  pct2prace\n",
       "0     Aaron  3646        2.880    91.607     3.264   2.057    0.055      0.137\n",
       "1     Abbas    59        0.000    71.186     3.390  25.424    0.000      0.000\n",
       "2     Abbey    57        0.000    96.491     3.509   0.000    0.000      0.000\n",
       "3     Abbie    74        1.351    95.946     2.703   0.000    0.000      0.000\n",
       "4      Abby   262        1.527    94.656     1.527   2.290    0.000      0.000"
      ]
     },
     "execution_count": 3,
     "metadata": {},
     "output_type": "execute_result"
    }
   ],
   "source": [
    "input_file = 'firstnames.csv'\n",
    "df = pd.read_csv(input_file, index_col=0)\n",
    "\n",
    "# Drop an excess column\n",
    "df.drop(columns=df.columns[-1], inplace=True)\n",
    "\n",
    "# Capitalize to match counts data\n",
    "df['firstname'] = df['firstname'].str.capitalize()\n",
    "\n",
    "df.head()"
   ]
  },
  {
   "cell_type": "code",
   "execution_count": 4,
   "id": "d6b8a193",
   "metadata": {},
   "outputs": [
    {
     "data": {
      "text/plain": [
       "2663364"
      ]
     },
     "execution_count": 4,
     "metadata": {},
     "output_type": "execute_result"
    }
   ],
   "source": [
    "df['obs'].sum()"
   ]
  },
  {
   "cell_type": "markdown",
   "id": "53a1c500",
   "metadata": {},
   "source": [
    "# Dataset count frequencies\n",
    "\n",
    "The propulation frequencies are observed from the mortgage applications, but this is problematic as a reflection for the population at large.  We plan to balance the names by 'frequency' in the US population of this set.\n",
    "\n",
    "We use Social Security data with name + frequency + gender information: https://www.ssa.gov/oact/babynames/names.zip \n",
    "\n",
    "We use a script to tally up the name frequenices from 1960-2020.  This represents the population from ~2-82 years old."
   ]
  },
  {
   "cell_type": "code",
   "execution_count": 5,
   "id": "d7d91718",
   "metadata": {},
   "outputs": [
    {
     "data": {
      "text/html": [
       "<div>\n",
       "<style scoped>\n",
       "    .dataframe tbody tr th:only-of-type {\n",
       "        vertical-align: middle;\n",
       "    }\n",
       "\n",
       "    .dataframe tbody tr th {\n",
       "        vertical-align: top;\n",
       "    }\n",
       "\n",
       "    .dataframe thead th {\n",
       "        text-align: right;\n",
       "    }\n",
       "</style>\n",
       "<table border=\"1\" class=\"dataframe\">\n",
       "  <thead>\n",
       "    <tr style=\"text-align: right;\">\n",
       "      <th></th>\n",
       "      <th>Name</th>\n",
       "      <th>Count</th>\n",
       "      <th>ProportionFemale</th>\n",
       "    </tr>\n",
       "  </thead>\n",
       "  <tbody>\n",
       "    <tr>\n",
       "      <th>0</th>\n",
       "      <td>Mary</td>\n",
       "      <td>727750</td>\n",
       "      <td>0.995941</td>\n",
       "    </tr>\n",
       "    <tr>\n",
       "      <th>1</th>\n",
       "      <td>Susan</td>\n",
       "      <td>426926</td>\n",
       "      <td>0.997110</td>\n",
       "    </tr>\n",
       "    <tr>\n",
       "      <th>2</th>\n",
       "      <td>Linda</td>\n",
       "      <td>319645</td>\n",
       "      <td>0.996490</td>\n",
       "    </tr>\n",
       "    <tr>\n",
       "      <th>3</th>\n",
       "      <td>Karen</td>\n",
       "      <td>470307</td>\n",
       "      <td>0.996409</td>\n",
       "    </tr>\n",
       "    <tr>\n",
       "      <th>4</th>\n",
       "      <td>Donna</td>\n",
       "      <td>285209</td>\n",
       "      <td>0.996918</td>\n",
       "    </tr>\n",
       "  </tbody>\n",
       "</table>\n",
       "</div>"
      ],
      "text/plain": [
       "    Name   Count  ProportionFemale\n",
       "0   Mary  727750          0.995941\n",
       "1  Susan  426926          0.997110\n",
       "2  Linda  319645          0.996490\n",
       "3  Karen  470307          0.996409\n",
       "4  Donna  285209          0.996918"
      ]
     },
     "execution_count": 5,
     "metadata": {},
     "output_type": "execute_result"
    }
   ],
   "source": [
    "frequency_file = 'names_aggregate_1960_2020.csv'\n",
    "counts = pd.read_csv(frequency_file)\n",
    "counts.head()"
   ]
  },
  {
   "cell_type": "markdown",
   "id": "3c957945",
   "metadata": {},
   "source": [
    "### Merging datasets"
   ]
  },
  {
   "cell_type": "code",
   "execution_count": 6,
   "id": "04d3a1e8",
   "metadata": {},
   "outputs": [
    {
     "data": {
      "text/html": [
       "<div>\n",
       "<style scoped>\n",
       "    .dataframe tbody tr th:only-of-type {\n",
       "        vertical-align: middle;\n",
       "    }\n",
       "\n",
       "    .dataframe tbody tr th {\n",
       "        vertical-align: top;\n",
       "    }\n",
       "\n",
       "    .dataframe thead th {\n",
       "        text-align: right;\n",
       "    }\n",
       "</style>\n",
       "<table border=\"1\" class=\"dataframe\">\n",
       "  <thead>\n",
       "    <tr style=\"text-align: right;\">\n",
       "      <th></th>\n",
       "      <th>firstname</th>\n",
       "      <th>obs</th>\n",
       "      <th>pcthispanic</th>\n",
       "      <th>pctwhite</th>\n",
       "      <th>pctblack</th>\n",
       "      <th>pctapi</th>\n",
       "      <th>pctaian</th>\n",
       "      <th>pct2prace</th>\n",
       "      <th>Count</th>\n",
       "      <th>ProportionFemale</th>\n",
       "    </tr>\n",
       "  </thead>\n",
       "  <tbody>\n",
       "    <tr>\n",
       "      <th>0</th>\n",
       "      <td>Aaron</td>\n",
       "      <td>3646</td>\n",
       "      <td>2.880</td>\n",
       "      <td>91.607</td>\n",
       "      <td>3.264</td>\n",
       "      <td>2.057</td>\n",
       "      <td>0.055</td>\n",
       "      <td>0.137</td>\n",
       "      <td>555734.0</td>\n",
       "      <td>0.007376</td>\n",
       "    </tr>\n",
       "    <tr>\n",
       "      <th>1</th>\n",
       "      <td>Abbas</td>\n",
       "      <td>59</td>\n",
       "      <td>0.000</td>\n",
       "      <td>71.186</td>\n",
       "      <td>3.390</td>\n",
       "      <td>25.424</td>\n",
       "      <td>0.000</td>\n",
       "      <td>0.000</td>\n",
       "      <td>1437.0</td>\n",
       "      <td>0.000000</td>\n",
       "    </tr>\n",
       "    <tr>\n",
       "      <th>2</th>\n",
       "      <td>Abbey</td>\n",
       "      <td>57</td>\n",
       "      <td>0.000</td>\n",
       "      <td>96.491</td>\n",
       "      <td>3.509</td>\n",
       "      <td>0.000</td>\n",
       "      <td>0.000</td>\n",
       "      <td>0.000</td>\n",
       "      <td>17052.0</td>\n",
       "      <td>0.999296</td>\n",
       "    </tr>\n",
       "    <tr>\n",
       "      <th>3</th>\n",
       "      <td>Abbie</td>\n",
       "      <td>74</td>\n",
       "      <td>1.351</td>\n",
       "      <td>95.946</td>\n",
       "      <td>2.703</td>\n",
       "      <td>0.000</td>\n",
       "      <td>0.000</td>\n",
       "      <td>0.000</td>\n",
       "      <td>14459.0</td>\n",
       "      <td>1.000000</td>\n",
       "    </tr>\n",
       "    <tr>\n",
       "      <th>4</th>\n",
       "      <td>Abby</td>\n",
       "      <td>262</td>\n",
       "      <td>1.527</td>\n",
       "      <td>94.656</td>\n",
       "      <td>1.527</td>\n",
       "      <td>2.290</td>\n",
       "      <td>0.000</td>\n",
       "      <td>0.000</td>\n",
       "      <td>56748.0</td>\n",
       "      <td>0.997480</td>\n",
       "    </tr>\n",
       "  </tbody>\n",
       "</table>\n",
       "</div>"
      ],
      "text/plain": [
       "  firstname   obs  pcthispanic  pctwhite  pctblack  pctapi  pctaian  \\\n",
       "0     Aaron  3646        2.880    91.607     3.264   2.057    0.055   \n",
       "1     Abbas    59        0.000    71.186     3.390  25.424    0.000   \n",
       "2     Abbey    57        0.000    96.491     3.509   0.000    0.000   \n",
       "3     Abbie    74        1.351    95.946     2.703   0.000    0.000   \n",
       "4      Abby   262        1.527    94.656     1.527   2.290    0.000   \n",
       "\n",
       "   pct2prace     Count  ProportionFemale  \n",
       "0      0.137  555734.0          0.007376  \n",
       "1      0.000    1437.0          0.000000  \n",
       "2      0.000   17052.0          0.999296  \n",
       "3      0.000   14459.0          1.000000  \n",
       "4      0.000   56748.0          0.997480  "
      ]
     },
     "execution_count": 6,
     "metadata": {},
     "output_type": "execute_result"
    }
   ],
   "source": [
    "# Merge, drop the duplicated columns\n",
    "df_joined = df.merge(counts, how='left', left_on='firstname', right_on='Name')\n",
    "df_joined.drop('Name', axis=1, inplace=True)\n",
    "df_joined.head()"
   ]
  },
  {
   "cell_type": "markdown",
   "id": "12ec0c14",
   "metadata": {},
   "source": [
    "We drop names that don't have social security counts.  These names are uncommon names among US citizens, and might represent names of foreign nationals purchasing mortgages in the US.  Ideally we would sample from all names, but due to a missing frequency data we remove some names from sampling.  As shown below, 73% correspond to API names."
   ]
  },
  {
   "cell_type": "code",
   "execution_count": 7,
   "id": "79acb51f",
   "metadata": {},
   "outputs": [
    {
     "name": "stdout",
     "output_type": "stream",
     "text": [
      "Proportion of names of majority API is 0.73 among 141 names missing frequency data.\n"
     ]
    }
   ],
   "source": [
    "no_counts_names = df_joined.query(\"Count.isnull()\")\n",
    "api_percent_of_no_counts = no_counts_names.query('pctapi > 50').shape[0] / no_counts_names.shape[0]\n",
    "print(f\"Proportion of names of majority API is {api_percent_of_no_counts:.2f} among {no_counts_names.shape[0]} names missing frequency data.\")\n",
    "\n",
    "df_joined.dropna(subset=['Count'], inplace=True)"
   ]
  },
  {
   "cell_type": "markdown",
   "id": "32069053",
   "metadata": {},
   "source": [
    "### Sampling names from race/ethnic groups\n",
    "\n",
    "We choose a threshold of 75%.  In other words, if 75% of people with a given name self-identify with the same race/ethnicity group, we include the name as 'associated' with that particular race/ethnicity group."
   ]
  },
  {
   "cell_type": "code",
   "execution_count": 8,
   "id": "d201c0ed",
   "metadata": {},
   "outputs": [],
   "source": [
    "def get_ordered_ix(df, n):\n",
    "    df = df.sort_values('Count').reset_index()\n",
    "    increment = n / df.shape[0]\n",
    "    indices = [increment * x for x in range(df.shape[0])]\n",
    "    df['index'] = indices\n",
    "    return df"
   ]
  },
  {
   "cell_type": "code",
   "execution_count": 9,
   "id": "897e3838",
   "metadata": {},
   "outputs": [
    {
     "name": "stdout",
     "output_type": "stream",
     "text": [
      "Found 2375 predominant pctwhite names\n",
      "Found 21 predominant pctblack names\n",
      "Found 446 predominant pctapi names\n",
      "Found 238 predominant pcthispanic names\n",
      "Found 0 predominant pctaian names\n",
      "Found 0 predominant pct2prace names\n"
     ]
    }
   ],
   "source": [
    "# Sampling names\n",
    "given_names_df = pd.DataFrame()\n",
    "for group in [\"pctwhite\", \"pctblack\", \"pctapi\", \"pcthispanic\", \"pctaian\", \"pct2prace\"]:\n",
    "    temp = data_utils.name_lists_by_race(df_joined.query(\"Count<600000\"), group, label=group)\n",
    "    temp = temp.rename(columns={'firstname': 'GivenName'})\n",
    "    temp['GivenName'] = temp['GivenName'].str.capitalize()\n",
    "    temp['Ethnicity'] = group[3:]\n",
    "    given_names_df = pd.concat([given_names_df, temp])"
   ]
  },
  {
   "cell_type": "code",
   "execution_count": 10,
   "id": "5f93e031",
   "metadata": {},
   "outputs": [
    {
     "data": {
      "text/html": [
       "<div>\n",
       "<style scoped>\n",
       "    .dataframe tbody tr th:only-of-type {\n",
       "        vertical-align: middle;\n",
       "    }\n",
       "\n",
       "    .dataframe tbody tr th {\n",
       "        vertical-align: top;\n",
       "    }\n",
       "\n",
       "    .dataframe thead th {\n",
       "        text-align: right;\n",
       "    }\n",
       "</style>\n",
       "<table border=\"1\" class=\"dataframe\">\n",
       "  <thead>\n",
       "    <tr style=\"text-align: right;\">\n",
       "      <th></th>\n",
       "      <th>count</th>\n",
       "      <th>mean</th>\n",
       "      <th>std</th>\n",
       "      <th>min</th>\n",
       "      <th>25%</th>\n",
       "      <th>50%</th>\n",
       "      <th>75%</th>\n",
       "      <th>max</th>\n",
       "    </tr>\n",
       "    <tr>\n",
       "      <th>Ethnicity</th>\n",
       "      <th></th>\n",
       "      <th></th>\n",
       "      <th></th>\n",
       "      <th></th>\n",
       "      <th></th>\n",
       "      <th></th>\n",
       "      <th></th>\n",
       "      <th></th>\n",
       "    </tr>\n",
       "  </thead>\n",
       "  <tbody>\n",
       "    <tr>\n",
       "      <th>api</th>\n",
       "      <td>446.0</td>\n",
       "      <td>488.901345</td>\n",
       "      <td>696.725819</td>\n",
       "      <td>5.0</td>\n",
       "      <td>73.00</td>\n",
       "      <td>279.0</td>\n",
       "      <td>620.25</td>\n",
       "      <td>5861.0</td>\n",
       "    </tr>\n",
       "    <tr>\n",
       "      <th>black</th>\n",
       "      <td>21.0</td>\n",
       "      <td>21572.619048</td>\n",
       "      <td>22831.338488</td>\n",
       "      <td>1462.0</td>\n",
       "      <td>9084.00</td>\n",
       "      <td>12770.0</td>\n",
       "      <td>25191.00</td>\n",
       "      <td>103950.0</td>\n",
       "    </tr>\n",
       "    <tr>\n",
       "      <th>hispanic</th>\n",
       "      <td>238.0</td>\n",
       "      <td>25121.760504</td>\n",
       "      <td>51850.771655</td>\n",
       "      <td>118.0</td>\n",
       "      <td>2093.75</td>\n",
       "      <td>6938.0</td>\n",
       "      <td>23596.75</td>\n",
       "      <td>488059.0</td>\n",
       "    </tr>\n",
       "    <tr>\n",
       "      <th>white</th>\n",
       "      <td>2375.0</td>\n",
       "      <td>41059.967158</td>\n",
       "      <td>84137.665413</td>\n",
       "      <td>5.0</td>\n",
       "      <td>2214.00</td>\n",
       "      <td>7343.0</td>\n",
       "      <td>35097.50</td>\n",
       "      <td>594931.0</td>\n",
       "    </tr>\n",
       "  </tbody>\n",
       "</table>\n",
       "</div>"
      ],
      "text/plain": [
       "            count          mean           std     min      25%      50%  \\\n",
       "Ethnicity                                                                 \n",
       "api         446.0    488.901345    696.725819     5.0    73.00    279.0   \n",
       "black        21.0  21572.619048  22831.338488  1462.0  9084.00  12770.0   \n",
       "hispanic    238.0  25121.760504  51850.771655   118.0  2093.75   6938.0   \n",
       "white      2375.0  41059.967158  84137.665413     5.0  2214.00   7343.0   \n",
       "\n",
       "                75%       max  \n",
       "Ethnicity                      \n",
       "api          620.25    5861.0  \n",
       "black      25191.00  103950.0  \n",
       "hispanic   23596.75  488059.0  \n",
       "white      35097.50  594931.0  "
      ]
     },
     "execution_count": 10,
     "metadata": {},
     "output_type": "execute_result"
    }
   ],
   "source": [
    "# Compare means\n",
    "given_names_df.groupby('Ethnicity')['Count'].describe()"
   ]
  },
  {
   "cell_type": "markdown",
   "id": "8a1ae6f4",
   "metadata": {},
   "source": [
    "The graph below shows population proportions for each racial/ethnic group, with frequency counts coming from mortgage data and social security datasets.  For example, if you randomly sample an individual based on population counts from the mortgage observation data, there is a 60% chance that person has a White-associated name.  Notably, we see that observation counts from mortgage data underrepresent Black-associated names compared to social security observation counts.  In other words, the mortgage dataset suggests Black-associated names are less frequent than they are in reality in the general US population."
   ]
  },
  {
   "cell_type": "code",
   "execution_count": 11,
   "id": "8b803660",
   "metadata": {},
   "outputs": [
    {
     "data": {
      "text/plain": [
       "<matplotlib.legend.Legend at 0x16d3c4f98>"
      ]
     },
     "execution_count": 11,
     "metadata": {},
     "output_type": "execute_result"
    },
    {
     "data": {
      "image/png": "[encoded data removed]",
      "text/plain": [
       "<Figure size 432x288 with 1 Axes>"
      ]
     },
     "metadata": {},
     "output_type": "display_data"
    }
   ],
   "source": [
    "# Group data\n",
    "per_group_counts = list()\n",
    "for col, label in [('obs', 'Mortgage data'), ('Count', 'Social Security data')]:\n",
    "    temp = given_names_df.groupby('Ethnicity')[col].mean().to_frame()\n",
    "    temp = temp / sum(temp[col])\n",
    "    temp['data_type'] = label\n",
    "    temp['n'] = temp[col]\n",
    "    per_group_counts.append(temp)\n",
    "per_group_count_df = pd.concat(per_group_counts)\n",
    "\n",
    "# Plot differences\n",
    "p = sns.barplot(data=per_group_count_df, x=per_group_count_df.index, y='n', hue='data_type')\n",
    "p.set_xlabel(\"Race/Ethnic Group\", fontsize = 20)\n",
    "p.set_ylabel(\"Proportion of names by population count\")\n",
    "p.legend(title='Data source')"
   ]
  },
  {
   "cell_type": "code",
   "execution_count": 12,
   "id": "9182d7be",
   "metadata": {},
   "outputs": [
    {
     "name": "stdout",
     "output_type": "stream",
     "text": [
      "Found 1000 predominant white names\n",
      "Found 20 predominant black names\n",
      "Found 14 predominant api names\n",
      "Found 172 predominant hispanic names\n"
     ]
    }
   ],
   "source": [
    "# Resampling names\n",
    "given_resampled_df = pd.DataFrame()\n",
    "for group in [\"pctwhite\", \"pctblack\", \"pctapi\", \"pcthispanic\"]:\n",
    "    temp = data_utils.name_lists_by_race(df_joined.query('Count>2000 and Count<120000', engine='python'), group, sample_size=1000, label=group[3:])\n",
    "    temp = temp.rename(columns={'firstname': 'GivenName'})\n",
    "    temp['GivenName'] = temp['GivenName'].str.capitalize()\n",
    "    temp['Ethnicity'] = group[3:]\n",
    "    given_resampled_df = pd.concat([given_resampled_df, temp])"
   ]
  },
  {
   "cell_type": "code",
   "execution_count": 13,
   "id": "fea84980",
   "metadata": {},
   "outputs": [
    {
     "data": {
      "image/png": "[encoded data removed]",
      "text/plain": [
       "<Figure size 432x288 with 1 Axes>"
      ]
     },
     "metadata": {},
     "output_type": "display_data"
    }
   ],
   "source": [
    "plot_1 = given_resampled_df.query(\"Ethnicity=='black'\")\n",
    "plot_1 = get_ordered_ix(plot_1, n=20)\n",
    "temp1 = given_resampled_df.query(\"Ethnicity=='hispanic'\")\n",
    "temp1 = get_ordered_ix(temp1, n=20)\n",
    "temp2 = given_resampled_df.query(\"Ethnicity=='white'\")\n",
    "temp2 = get_ordered_ix(temp2, n=20)\n",
    "plot_1 = pd.concat([plot_1, temp1, temp2]).reset_index()\n",
    "\n",
    "lar1_plot = sns.lineplot(data=plot_1, x='index', y='Count', hue='Ethnicity', style='Ethnicity', linewidth=3)\n",
    "lar1_plot.set(xticklabels=[])\n",
    "lar1_plot.set(xlabel=None)\n",
    "lar1_plot.legend(labels=['Black', 'Hispanic', 'White'])\n",
    "lar1_plot\n",
    "plt.savefig(\"pii-lar1.png\", dpi=300, bbox_inches=\"tight\")"
   ]
  },
  {
   "cell_type": "code",
   "execution_count": 14,
   "id": "7d332281",
   "metadata": {},
   "outputs": [
    {
     "data": {
      "text/html": [
       "<div>\n",
       "<style scoped>\n",
       "    .dataframe tbody tr th:only-of-type {\n",
       "        vertical-align: middle;\n",
       "    }\n",
       "\n",
       "    .dataframe tbody tr th {\n",
       "        vertical-align: top;\n",
       "    }\n",
       "\n",
       "    .dataframe thead th {\n",
       "        text-align: right;\n",
       "    }\n",
       "</style>\n",
       "<table border=\"1\" class=\"dataframe\">\n",
       "  <thead>\n",
       "    <tr style=\"text-align: right;\">\n",
       "      <th></th>\n",
       "      <th>count</th>\n",
       "      <th>mean</th>\n",
       "      <th>std</th>\n",
       "      <th>min</th>\n",
       "      <th>25%</th>\n",
       "      <th>50%</th>\n",
       "      <th>75%</th>\n",
       "      <th>max</th>\n",
       "    </tr>\n",
       "    <tr>\n",
       "      <th>Ethnicity</th>\n",
       "      <th></th>\n",
       "      <th></th>\n",
       "      <th></th>\n",
       "      <th></th>\n",
       "      <th></th>\n",
       "      <th></th>\n",
       "      <th></th>\n",
       "      <th></th>\n",
       "    </tr>\n",
       "  </thead>\n",
       "  <tbody>\n",
       "    <tr>\n",
       "      <th>api</th>\n",
       "      <td>14.0</td>\n",
       "      <td>3326.857143</td>\n",
       "      <td>1349.110810</td>\n",
       "      <td>2021.0</td>\n",
       "      <td>2229.75</td>\n",
       "      <td>2733.5</td>\n",
       "      <td>4438.50</td>\n",
       "      <td>5861.0</td>\n",
       "    </tr>\n",
       "    <tr>\n",
       "      <th>black</th>\n",
       "      <td>20.0</td>\n",
       "      <td>22578.150000</td>\n",
       "      <td>22942.423924</td>\n",
       "      <td>2063.0</td>\n",
       "      <td>9261.00</td>\n",
       "      <td>13952.0</td>\n",
       "      <td>26469.25</td>\n",
       "      <td>103950.0</td>\n",
       "    </tr>\n",
       "    <tr>\n",
       "      <th>hispanic</th>\n",
       "      <td>172.0</td>\n",
       "      <td>21646.924419</td>\n",
       "      <td>25515.033869</td>\n",
       "      <td>2045.0</td>\n",
       "      <td>4509.25</td>\n",
       "      <td>10611.0</td>\n",
       "      <td>26208.00</td>\n",
       "      <td>115861.0</td>\n",
       "    </tr>\n",
       "    <tr>\n",
       "      <th>white</th>\n",
       "      <td>1000.0</td>\n",
       "      <td>22590.183000</td>\n",
       "      <td>27113.476079</td>\n",
       "      <td>2007.0</td>\n",
       "      <td>4236.75</td>\n",
       "      <td>10372.5</td>\n",
       "      <td>30067.50</td>\n",
       "      <td>119865.0</td>\n",
       "    </tr>\n",
       "  </tbody>\n",
       "</table>\n",
       "</div>"
      ],
      "text/plain": [
       "            count          mean           std     min      25%      50%  \\\n",
       "Ethnicity                                                                 \n",
       "api          14.0   3326.857143   1349.110810  2021.0  2229.75   2733.5   \n",
       "black        20.0  22578.150000  22942.423924  2063.0  9261.00  13952.0   \n",
       "hispanic    172.0  21646.924419  25515.033869  2045.0  4509.25  10611.0   \n",
       "white      1000.0  22590.183000  27113.476079  2007.0  4236.75  10372.5   \n",
       "\n",
       "                75%       max  \n",
       "Ethnicity                      \n",
       "api         4438.50    5861.0  \n",
       "black      26469.25  103950.0  \n",
       "hispanic   26208.00  115861.0  \n",
       "white      30067.50  119865.0  "
      ]
     },
     "execution_count": 14,
     "metadata": {},
     "output_type": "execute_result"
    }
   ],
   "source": [
    "# Compare means\n",
    "given_resampled_df.groupby('Ethnicity')['Count'].describe()"
   ]
  },
  {
   "cell_type": "markdown",
   "id": "5daa1935",
   "metadata": {},
   "source": [
    "There are very few Black names in the total sample, and they all fall under 120K observations according to the social security dataset.  We provided restrictions when sampling White and Hispanic names in order to select names that had relatively similar count distributions.  We randomly sampled from names that had at least 2K observations and no more than 120K observations."
   ]
  },
  {
   "cell_type": "code",
   "execution_count": 15,
   "id": "14b6f215",
   "metadata": {},
   "outputs": [
    {
     "name": "stdout",
     "output_type": "stream",
     "text": [
      "Report for Hispanic/White: MannwhitneyuResult(statistic=85786.0, pvalue=0.4792370447722226)\n",
      "Report for Black/White: MannwhitneyuResult(statistic=8369.0, pvalue=0.10566366377064873)\n",
      "Report for Black/Hispanic: MannwhitneyuResult(statistic=1434.0, pvalue=0.11241627266539922)\n"
     ]
    }
   ],
   "source": [
    "# We don't see a significant difference in means between the Hispanic, Black, and White groups.\n",
    "given_resampled_df.head()\n",
    "data_utils.sig_of_means(given_resampled_df, [\"Ethnicity=='hispanic'\", \"Ethnicity=='white'\"], col='Count', label='Hispanic/White')\n",
    "data_utils.sig_of_means(given_resampled_df, [\"Ethnicity=='black'\", \"Ethnicity=='white'\"], col='Count', label='Black/White')\n",
    "data_utils.sig_of_means(given_resampled_df, [\"Ethnicity=='hispanic'\", \"Ethnicity=='black'\"], col='Count', label='Black/Hispanic')"
   ]
  },
  {
   "cell_type": "code",
   "execution_count": 16,
   "id": "ea75a83d",
   "metadata": {},
   "outputs": [
    {
     "name": "stdout",
     "output_type": "stream",
     "text": [
      "Report for API/White: MannwhitneyuResult(statistic=1963.0, pvalue=1.8433072701312061e-06)\n"
     ]
    }
   ],
   "source": [
    "# API names have a significantly different distribution, and have less than 20 samples in the distribution.  \n",
    "# Therefore we will handle API names seperately.\n",
    "data_utils.sig_of_means(given_resampled_df, [\"Ethnicity=='api'\", \"Ethnicity=='white'\"], col='Count', label='API/White')\n",
    "given_resampled_df = given_resampled_df.query(\"Ethnicity != 'api'\")"
   ]
  },
  {
   "cell_type": "markdown",
   "id": "516d9707",
   "metadata": {},
   "source": [
    "## Special handling of API names\n",
    "API names were more abundant but had few observations per name (488 per name). There aren't enough Black and Hispanic associated names in the lower range to directly compare.  However, we can compare to White names with similar prevalence.\n",
    "\n",
    "However, we can't simply sample from a range corresponding to API names, because White name counts are distributed uniformly, while API name counts are distributed exponentially.  Instead, we can sample exponentially, where we see a similar distribution.  This leaves 2 similar distributions for White and API names."
   ]
  },
  {
   "cell_type": "code",
   "execution_count": 17,
   "id": "aaa5688b",
   "metadata": {},
   "outputs": [
    {
     "data": {
      "text/plain": [
       "<AxesSubplot:xlabel='index', ylabel='Count'>"
      ]
     },
     "execution_count": 17,
     "metadata": {},
     "output_type": "execute_result"
    },
    {
     "data": {
      "image/png": "[encoded data removed]",
      "text/plain": [
       "<Figure size 432x288 with 1 Axes>"
      ]
     },
     "metadata": {},
     "output_type": "display_data"
    }
   ],
   "source": [
    "api_names = given_names_df.query(\"Ethnicity=='api'\")\n",
    "plot_white_api = api_names\n",
    "limit = plot_white_api.shape[0]\n",
    "given_names_df.query(\"Ethnicity=='white' and Count<6000\").shape[0]\n",
    "plot_white_api = get_ordered_ix(plot_white_api, limit)\n",
    "temp = given_names_df.query(\"Ethnicity=='white' and Count<6000\")#.sample(446, random_state=bg.bit_generator)\n",
    "temp = get_ordered_ix(temp, limit)\n",
    "plot_white_api = pd.concat([plot_white_api, temp])\n",
    "\n",
    "sns.scatterplot(data=plot_white_api, x='index', y='Count', hue='Ethnicity')"
   ]
  },
  {
   "cell_type": "code",
   "execution_count": 18,
   "id": "c1f9a8a2",
   "metadata": {},
   "outputs": [
    {
     "data": {
      "text/plain": [
       "<AxesSubplot:xlabel='index', ylabel='Count'>"
      ]
     },
     "execution_count": 18,
     "metadata": {},
     "output_type": "execute_result"
    },
    {
     "data": {
      "image/png": "[encoded data removed]",
      "text/plain": [
       "<Figure size 432x288 with 1 Axes>"
      ]
     },
     "metadata": {},
     "output_type": "display_data"
    }
   ],
   "source": [
    "# An exponential distribution matches the distribution of the API data.\n",
    "# We've removed 4 outliers above 4000 in count, the rest of the data fit the curve well.\n",
    "digits = np.random.exponential(480, 442)\n",
    "digits = sorted(digits)\n",
    "exp_dist = pd.DataFrame(digits)\n",
    "exp_dist['index'] = exp_dist.index\n",
    "exp_dist['Ethnicity'] = 'na'\n",
    "exp_dist['Count'] = exp_dist[0]\n",
    "\n",
    "plot_exp_api = given_names_df.query(\"Ethnicity=='api' and Count<4000\", engine='python')\n",
    "plot_exp_api = get_ordered_ix(plot_exp_api, plot_exp_api.shape[0])\n",
    "plot_exp_api = pd.concat([plot_exp_api, exp_dist])\n",
    "\n",
    "sns.scatterplot(data=plot_exp_api, x='index', y='Count', hue='Ethnicity')"
   ]
  },
  {
   "cell_type": "code",
   "execution_count": 19,
   "id": "a0d44a36",
   "metadata": {},
   "outputs": [],
   "source": [
    "# Here we simply sample these names based on an exponential distribution.\n",
    "digits = bg.exponential(480, 10000)\n",
    "digits = [int(x) for x in digits]\n",
    "\n",
    "column='pctwhite'\n",
    "threshold=75\n",
    "sample_size = 1000\n",
    "query = f\"{column} >= {threshold}\"\n",
    "df = df_joined.query(query, engine='python').copy()\n",
    "\n",
    "i = 0\n",
    "api_white_names = pd.DataFrame()\n",
    "while api_white_names.shape[0] < sample_size:\n",
    "    if not df[df['Count']==digits[i]].empty:\n",
    "        api_white_names = pd.concat([api_white_names, df[df['Count']==digits[i]].iloc[0].to_frame().transpose()])\n",
    "    i += 1\n",
    "api_white_names['Ethnicity'] = 'white'\n",
    "api_white_names.rename(columns={'firstname': 'GivenName'}, inplace=True)\n",
    "api_white_names[\"Count\"] = pd.to_numeric(api_white_names[\"Count\"])\n",
    "api_white_names = pd.concat([api_white_names, api_names.query(\"Count<4000\")]).reset_index(drop=True)"
   ]
  },
  {
   "cell_type": "code",
   "execution_count": 20,
   "id": "78b3bf27",
   "metadata": {},
   "outputs": [
    {
     "data": {
      "image/png": "[encoded data removed]",
      "text/plain": [
       "<Figure size 432x288 with 1 Axes>"
      ]
     },
     "metadata": {},
     "output_type": "display_data"
    }
   ],
   "source": [
    "# The new samples are more closely matched.\n",
    "plot_white_api_2 = api_white_names.query(\"Ethnicity=='api'\")\n",
    "limit = plot_white_api_2.shape[0]\n",
    "plot_white_api_2 = get_ordered_ix(plot_white_api_2, limit)\n",
    "\n",
    "temp = api_white_names.query(\"Ethnicity=='white'\")#.sample(442, random_state=bg.bit_generator)\n",
    "temp = get_ordered_ix(temp, limit)\n",
    "\n",
    "plot_white_api_2 = pd.concat([plot_white_api_2, temp])\n",
    "api_plot = sns.scatterplot(data=plot_white_api_2, x='index', y='Count', hue='Ethnicity', style='Ethnicity', s=50, edgecolor='none')\n",
    "\n",
    "\n",
    "legend_labels, _= api_plot.get_legend_handles_labels()\n",
    "api_plot.legend(legend_labels, ['API','White'], bbox_to_anchor=(0.4,1))\n",
    "\n",
    "api_plot.set(xticklabels=[])\n",
    "api_plot.set(xlabel=None)\n",
    "\n",
    "api_plot\n",
    "plt.savefig(\"pii-lar2.png\", dpi=300, bbox_inches=\"tight\")"
   ]
  },
  {
   "cell_type": "code",
   "execution_count": 21,
   "id": "472bef4e",
   "metadata": {},
   "outputs": [
    {
     "data": {
      "text/html": [
       "<div>\n",
       "<style scoped>\n",
       "    .dataframe tbody tr th:only-of-type {\n",
       "        vertical-align: middle;\n",
       "    }\n",
       "\n",
       "    .dataframe tbody tr th {\n",
       "        vertical-align: top;\n",
       "    }\n",
       "\n",
       "    .dataframe thead th {\n",
       "        text-align: right;\n",
       "    }\n",
       "</style>\n",
       "<table border=\"1\" class=\"dataframe\">\n",
       "  <thead>\n",
       "    <tr style=\"text-align: right;\">\n",
       "      <th></th>\n",
       "      <th>count</th>\n",
       "      <th>mean</th>\n",
       "      <th>std</th>\n",
       "      <th>min</th>\n",
       "      <th>25%</th>\n",
       "      <th>50%</th>\n",
       "      <th>75%</th>\n",
       "      <th>max</th>\n",
       "    </tr>\n",
       "    <tr>\n",
       "      <th>Ethnicity</th>\n",
       "      <th></th>\n",
       "      <th></th>\n",
       "      <th></th>\n",
       "      <th></th>\n",
       "      <th></th>\n",
       "      <th></th>\n",
       "      <th></th>\n",
       "      <th></th>\n",
       "    </tr>\n",
       "  </thead>\n",
       "  <tbody>\n",
       "    <tr>\n",
       "      <th>api</th>\n",
       "      <td>441.0</td>\n",
       "      <td>438.122449</td>\n",
       "      <td>506.502942</td>\n",
       "      <td>5.0</td>\n",
       "      <td>72.0</td>\n",
       "      <td>276.0</td>\n",
       "      <td>601.0</td>\n",
       "      <td>3037.0</td>\n",
       "    </tr>\n",
       "    <tr>\n",
       "      <th>white</th>\n",
       "      <td>1000.0</td>\n",
       "      <td>417.173000</td>\n",
       "      <td>417.539306</td>\n",
       "      <td>5.0</td>\n",
       "      <td>108.0</td>\n",
       "      <td>286.0</td>\n",
       "      <td>596.0</td>\n",
       "      <td>2669.0</td>\n",
       "    </tr>\n",
       "  </tbody>\n",
       "</table>\n",
       "</div>"
      ],
      "text/plain": [
       "            count        mean         std  min    25%    50%    75%     max\n",
       "Ethnicity                                                                  \n",
       "api         441.0  438.122449  506.502942  5.0   72.0  276.0  601.0  3037.0\n",
       "white      1000.0  417.173000  417.539306  5.0  108.0  286.0  596.0  2669.0"
      ]
     },
     "execution_count": 21,
     "metadata": {},
     "output_type": "execute_result"
    }
   ],
   "source": [
    "# Compare means - looking good.\n",
    "api_white_names.groupby('Ethnicity')['Count'].describe()"
   ]
  },
  {
   "cell_type": "code",
   "execution_count": 22,
   "id": "ce6907a2",
   "metadata": {},
   "outputs": [
    {
     "name": "stdout",
     "output_type": "stream",
     "text": [
      "Report for API/White: MannwhitneyuResult(statistic=211033.5, pvalue=0.09674103361447745)\n"
     ]
    }
   ],
   "source": [
    "# The means are not significantly different.\n",
    "data_utils.sig_of_means(api_white_names, [\"Ethnicity=='api'\", \"Ethnicity=='white'\"], col='Count', label='API/White')"
   ]
  },
  {
   "cell_type": "markdown",
   "id": "9d675f87",
   "metadata": {},
   "source": [
    "### Sanity check and save sampled names"
   ]
  },
  {
   "cell_type": "code",
   "execution_count": null,
   "id": "48be5ccb",
   "metadata": {},
   "outputs": [],
   "source": [
    "given_resampled_df.groupby(['Ethnicity'])['Count'].describe()"
   ]
  },
  {
   "cell_type": "code",
   "execution_count": null,
   "id": "e1aa63ac",
   "metadata": {},
   "outputs": [],
   "source": [
    "given_resampled_df.to_csv('./name_lists/LAR_1.csv')"
   ]
  },
  {
   "cell_type": "code",
   "execution_count": null,
   "id": "f3e383b1",
   "metadata": {},
   "outputs": [],
   "source": [
    "api_white_names.groupby(['Ethnicity'])['Count'].describe()"
   ]
  },
  {
   "cell_type": "code",
   "execution_count": null,
   "id": "01b3e40f",
   "metadata": {},
   "outputs": [],
   "source": [
    "api_white_names.to_csv('./name_lists/LAR_2.csv')"
   ]
  },
  {
   "cell_type": "code",
   "execution_count": null,
   "id": "fe1b2701",
   "metadata": {},
   "outputs": [],
   "source": []
  }
 ],
 "metadata": {
  "kernelspec": {
   "display_name": "pii",
   "language": "python",
   "name": ".venv"
  },
  "language_info": {
   "codemirror_mode": {
    "name": "ipython",
    "version": 3
   },
   "file_extension": ".py",
   "mimetype": "text/x-python",
   "name": "python",
   "nbconvert_exporter": "python",
   "pygments_lexer": "ipython3",
   "version": "3.6.5"
  }
 },
 "nbformat": 4,
 "nbformat_minor": 5
}
