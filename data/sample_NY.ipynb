{
 "cells": [
  {
   "cell_type": "code",
   "execution_count": 3,
   "id": "98ca4b4c",
   "metadata": {},
   "outputs": [],
   "source": [
    "import pandas as pd\n",
    "import data_utils"
   ]
  },
  {
   "cell_type": "markdown",
   "id": "f5560eae",
   "metadata": {},
   "source": [
    "# NYC Babynames Dataset\n",
    "\n",
    "https://data.cityofnewyork.us/Health/Popular-Baby-Names/25th-nujf\n",
    "\n",
    "Data was collected through birth registration in NYC between the years 2011 - 2018."
   ]
  },
  {
   "cell_type": "code",
   "execution_count": 4,
   "id": "e595e622",
   "metadata": {},
   "outputs": [],
   "source": [
    "input_file = 'Popular_Baby_Names.csv'\n",
    "df = pd.read_csv(input_file, index_col=0)\n",
    "\n",
    "# Update First Name strings to match\n",
    "df[\"Child's First Name\"] = df[\"Child's First Name\"].str.upper()\n",
    "\n",
    "# Collapse some spelling variations\n",
    "category_map = {'WHITE NON HISP': 'WHITE NON HISPANIC', \n",
    "                'BLACK NON HISP': 'BLACK NON HISPANIC', \n",
    "                'ASIAN AND PACI': 'ASIAN AND PACIFIC ISLANDER'}\n",
    "for k, v in category_map.items():\n",
    "    df.loc[df['Ethnicity'] == k, 'Ethnicity'] = v"
   ]
  },
  {
   "cell_type": "code",
   "execution_count": 50,
   "id": "9bfe923d",
   "metadata": {},
   "outputs": [
    {
     "name": "stdout",
     "output_type": "stream",
     "text": [
      "There are 1832 names from 477015 observations.\n"
     ]
    }
   ],
   "source": [
    "# Note that I didn't drop duplicates before sampling, initially.  Here I drop them to get accurate observation counts.\n",
    "# Since samples use aggregated data, dropping duplicates does not affect sampling.\n",
    "df2 = df.drop_duplicates()\n",
    "print(f\"\"\"There are {df2.groupby(\"Child's First Name\").count().shape[0]} names from {df2['Count'].sum()} observations.\"\"\")"
   ]
  },
  {
   "cell_type": "markdown",
   "id": "bad52731",
   "metadata": {},
   "source": [
    "Next we sort by gender.  We include gender information for names that are >90% associated with a gender from the dataset."
   ]
  },
  {
   "cell_type": "code",
   "execution_count": 53,
   "id": "9ced4b40",
   "metadata": {},
   "outputs": [
    {
     "name": "stdout",
     "output_type": "stream",
     "text": [
      "Found 22 names that were not >90% associated with a particular gender.\n"
     ]
    }
   ],
   "source": [
    "# Get proportions of male/female in the data\n",
    "temp = df.groupby(['Gender', \"Child's First Name\"]).sum()\n",
    "f = temp.query(\"Gender=='FEMALE'\")\n",
    "m = temp.query(\"Gender=='MALE'\")\n",
    "sorted_names = f.merge(m, how='outer', on=\"Child's First Name\", suffixes=('_MALE', '_FEMALE'))\n",
    "sorted_names['proportion_female'] = sorted_names['Count_FEMALE'] / (sorted_names['Count_FEMALE'] + sorted_names['Count_MALE'])\n",
    "\n",
    "# Find names that are not strongly associated with one gender\n",
    "gendered_names = sorted_names.query(\"proportion_female.isnull() or proportion_female < 0.1 or proportion_female > 0.9\", engine='python')\n",
    "print(f\"Found {sorted_names.shape[0] - gendered_names.shape[0]} names that were not >90% associated with a particular gender.\")\n",
    "weak_gender_association_names = sorted_names.query(\"proportion_female > 0.1 or proportion_female < 0.9\").index.tolist()\n",
    "\n",
    "# Create a dictionary to consider whether names are female or male \n",
    "gendered_names.eval('is_female = proportion_female.isnull() and Count_MALE>0 or proportion_female < 0.1', inplace=True)\n",
    "is_name_female = gendered_names[['is_female']].to_dict()['is_female']"
   ]
  },
  {
   "cell_type": "code",
   "execution_count": 7,
   "id": "ee373684",
   "metadata": {},
   "outputs": [],
   "source": [
    "df_grouped = df.groupby(['Ethnicity', \"Child's First Name\"]).sum() / df.groupby(\"Child's First Name\").sum() * 100\n",
    "df_grouped.reset_index(inplace=True)\n",
    "df_grouped['Name'] = df_grouped[\"Child's First Name\"]\n",
    "df_grouped = df_grouped[['Name', 'Ethnicity', 'Count']]"
   ]
  },
  {
   "cell_type": "code",
   "execution_count": 8,
   "id": "d2d59615",
   "metadata": {},
   "outputs": [
    {
     "name": "stdout",
     "output_type": "stream",
     "text": [
      "Found 165 predominant ASIAN AND PACIFIC ISLANDER names\n",
      "Found 592 predominant WHITE NON HISPANIC names\n",
      "Found 226 predominant BLACK NON HISPANIC names\n",
      "Found 389 predominant HISPANIC names\n"
     ]
    }
   ],
   "source": [
    "# Sampling names\n",
    "given_names_df = pd.DataFrame()\n",
    "for group in [\"ASIAN AND PACIFIC ISLANDER\", \"WHITE NON HISPANIC\", \"BLACK NON HISPANIC\", \"HISPANIC\"]:\n",
    "    query_str = f\"Ethnicity=='{group}'\"\n",
    "    temp = data_utils.name_lists_by_race(df_grouped.query(query_str), 'Count', label=group)\n",
    "    temp = temp.rename(columns={'Name': 'GivenName'})\n",
    "    temp['GivenName'] = temp['GivenName'].str.capitalize()\n",
    "    given_names_df = pd.concat([given_names_df, temp])\n",
    "\n",
    "# Add gender details\n",
    "given_names_df['Gender'] = given_names_df['GivenName'].str.upper().map(is_name_female)\n",
    "given_names_df['Gender'] = given_names_df['Gender'].map({True: 'F', False: 'M'})"
   ]
  },
  {
   "cell_type": "code",
   "execution_count": 7,
   "id": "c595a894",
   "metadata": {},
   "outputs": [
    {
     "data": {
      "text/html": [
       "<div>\n",
       "<style scoped>\n",
       "    .dataframe tbody tr th:only-of-type {\n",
       "        vertical-align: middle;\n",
       "    }\n",
       "\n",
       "    .dataframe tbody tr th {\n",
       "        vertical-align: top;\n",
       "    }\n",
       "\n",
       "    .dataframe thead th {\n",
       "        text-align: right;\n",
       "    }\n",
       "</style>\n",
       "<table border=\"1\" class=\"dataframe\">\n",
       "  <thead>\n",
       "    <tr style=\"text-align: right;\">\n",
       "      <th></th>\n",
       "      <th></th>\n",
       "      <th>Count</th>\n",
       "    </tr>\n",
       "    <tr>\n",
       "      <th>Ethnicity</th>\n",
       "      <th>Gender</th>\n",
       "      <th></th>\n",
       "    </tr>\n",
       "  </thead>\n",
       "  <tbody>\n",
       "    <tr>\n",
       "      <th rowspan=\"2\" valign=\"top\">ASIAN AND PACIFIC ISLANDER</th>\n",
       "      <th>F</th>\n",
       "      <td>86</td>\n",
       "    </tr>\n",
       "    <tr>\n",
       "      <th>M</th>\n",
       "      <td>77</td>\n",
       "    </tr>\n",
       "    <tr>\n",
       "      <th rowspan=\"2\" valign=\"top\">BLACK NON HISPANIC</th>\n",
       "      <th>F</th>\n",
       "      <td>122</td>\n",
       "    </tr>\n",
       "    <tr>\n",
       "      <th>M</th>\n",
       "      <td>101</td>\n",
       "    </tr>\n",
       "    <tr>\n",
       "      <th rowspan=\"2\" valign=\"top\">HISPANIC</th>\n",
       "      <th>F</th>\n",
       "      <td>212</td>\n",
       "    </tr>\n",
       "    <tr>\n",
       "      <th>M</th>\n",
       "      <td>175</td>\n",
       "    </tr>\n",
       "    <tr>\n",
       "      <th rowspan=\"2\" valign=\"top\">WHITE NON HISPANIC</th>\n",
       "      <th>F</th>\n",
       "      <td>321</td>\n",
       "    </tr>\n",
       "    <tr>\n",
       "      <th>M</th>\n",
       "      <td>265</td>\n",
       "    </tr>\n",
       "  </tbody>\n",
       "</table>\n",
       "</div>"
      ],
      "text/plain": [
       "                                   Count\n",
       "Ethnicity                  Gender       \n",
       "ASIAN AND PACIFIC ISLANDER F          86\n",
       "                           M          77\n",
       "BLACK NON HISPANIC         F         122\n",
       "                           M         101\n",
       "HISPANIC                   F         212\n",
       "                           M         175\n",
       "WHITE NON HISPANIC         F         321\n",
       "                           M         265"
      ]
     },
     "execution_count": 7,
     "metadata": {},
     "output_type": "execute_result"
    }
   ],
   "source": [
    "given_names_df.groupby(['Ethnicity', 'Gender']).count()[['Count']]"
   ]
  },
  {
   "cell_type": "code",
   "execution_count": 9,
   "id": "2321dc52",
   "metadata": {},
   "outputs": [
    {
     "data": {
      "text/html": [
       "<div>\n",
       "<style scoped>\n",
       "    .dataframe tbody tr th:only-of-type {\n",
       "        vertical-align: middle;\n",
       "    }\n",
       "\n",
       "    .dataframe tbody tr th {\n",
       "        vertical-align: top;\n",
       "    }\n",
       "\n",
       "    .dataframe thead th {\n",
       "        text-align: right;\n",
       "    }\n",
       "</style>\n",
       "<table border=\"1\" class=\"dataframe\">\n",
       "  <thead>\n",
       "    <tr style=\"text-align: right;\">\n",
       "      <th></th>\n",
       "      <th>GivenName</th>\n",
       "      <th>Ethnicity</th>\n",
       "      <th>Count</th>\n",
       "      <th>Gender</th>\n",
       "    </tr>\n",
       "  </thead>\n",
       "  <tbody>\n",
       "    <tr>\n",
       "      <th>0</th>\n",
       "      <td>Aahil</td>\n",
       "      <td>ASIAN AND PACIFIC ISLANDER</td>\n",
       "      <td>100.0</td>\n",
       "      <td>M</td>\n",
       "    </tr>\n",
       "    <tr>\n",
       "      <th>2</th>\n",
       "      <td>Aarav</td>\n",
       "      <td>ASIAN AND PACIFIC ISLANDER</td>\n",
       "      <td>100.0</td>\n",
       "      <td>M</td>\n",
       "    </tr>\n",
       "    <tr>\n",
       "      <th>4</th>\n",
       "      <td>Aarya</td>\n",
       "      <td>ASIAN AND PACIFIC ISLANDER</td>\n",
       "      <td>100.0</td>\n",
       "      <td>F</td>\n",
       "    </tr>\n",
       "    <tr>\n",
       "      <th>5</th>\n",
       "      <td>Aaryan</td>\n",
       "      <td>ASIAN AND PACIFIC ISLANDER</td>\n",
       "      <td>100.0</td>\n",
       "      <td>M</td>\n",
       "    </tr>\n",
       "    <tr>\n",
       "      <th>6</th>\n",
       "      <td>Aayan</td>\n",
       "      <td>ASIAN AND PACIFIC ISLANDER</td>\n",
       "      <td>100.0</td>\n",
       "      <td>M</td>\n",
       "    </tr>\n",
       "  </tbody>\n",
       "</table>\n",
       "</div>"
      ],
      "text/plain": [
       "  GivenName                   Ethnicity  Count Gender\n",
       "0     Aahil  ASIAN AND PACIFIC ISLANDER  100.0      M\n",
       "2     Aarav  ASIAN AND PACIFIC ISLANDER  100.0      M\n",
       "4     Aarya  ASIAN AND PACIFIC ISLANDER  100.0      F\n",
       "5    Aaryan  ASIAN AND PACIFIC ISLANDER  100.0      M\n",
       "6     Aayan  ASIAN AND PACIFIC ISLANDER  100.0      M"
      ]
     },
     "execution_count": 9,
     "metadata": {},
     "output_type": "execute_result"
    }
   ],
   "source": [
    "given_names_df.head()"
   ]
  },
  {
   "cell_type": "code",
   "execution_count": 9,
   "id": "d3b88fc4",
   "metadata": {},
   "outputs": [],
   "source": [
    "given_names_df.to_csv('./name_lists/NY.csv')"
   ]
  }
 ],
 "metadata": {
  "kernelspec": {
   "display_name": "pii",
   "language": "python",
   "name": ".venv"
  },
  "language_info": {
   "codemirror_mode": {
    "name": "ipython",
    "version": 3
   },
   "file_extension": ".py",
   "mimetype": "text/x-python",
   "name": "python",
   "nbconvert_exporter": "python",
   "pygments_lexer": "ipython3",
   "version": "3.6.5"
  }
 },
 "nbformat": 4,
 "nbformat_minor": 5
}
